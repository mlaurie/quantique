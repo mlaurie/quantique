{
 "metadata": {
  "kernelspec": {
   "name": "python3",
   "language": "python",
   "display_name": "Python 3 (ipykernel)"
  },
  "language_info": {
   "codemirror_mode": {
    "name": "python",
    "version": 3
   },
   "file_extension": ".py",
   "mimetype": "text/x-python",
   "name": "python",
   "nbconvert_exporter": "python",
   "pygments_lexer": "ipython3",
   "version": "3.8"
  }
 },
 "nbformat_minor": 5,
 "nbformat": 4,
 "cells": [
  {
   "cell_type": "markdown",
   "source": [
    "# Enigme 1 : La porte du trésor\n",
    "\n",
    "Un trésor est à trouver, gardé par un gardien derrière une des deux portes.\n",
    "\n",
    "Un gardien dit la vérité, l'autre ment toujours.\n",
    "\n",
    "Défi : Poser une question à un seul de ces gardiens pour obtenir la localisation du trésor (porte de gauche ou porte de droite)."
   ],
   "metadata": {},
   "id": "e8ce0c84-1d72-48da-b543-94b3b4f93a68"
  },
  {
   "cell_type": "markdown",
   "source": [
    "## Etape 1 : importation des modules"
   ],
   "metadata": {},
   "id": "94b3aecb-07de-4110-a357-e514b30c8762"
  },
  {
   "cell_type": "code",
   "source": [
    "from qiskit import QuantumCircuit, Aer, execute\n",
    "from qiskit.visualization import plot_histogram\n",
    "import matplotlib.pyplot as plt"
   ],
   "metadata": {
    "trusted": true,
    "ExecuteTime": {
     "start_time": "2023-11-10T16:51:20.000687Z",
     "end_time": "2023-11-10T16:51:21.487732Z"
    }
   },
   "execution_count": 1,
   "outputs": [],
   "id": "ee9413e9"
  },
  {
   "cell_type": "markdown",
   "source": [
    "## Etape 2 : Création du circuit quantique avec 3 qubits\n",
    "\n",
    "- q0 représente le gardien de droite\n",
    "- q1 représente le gardien de gauche\n",
    "- q2 représente le mensonge"
   ],
   "metadata": {},
   "id": "cff3b41c-3fb4-4980-a4c1-8bfc7cb6cf00"
  },
  {
   "cell_type": "code",
   "source": [
    "qc = QuantumCircuit(3)"
   ],
   "metadata": {
    "trusted": true,
    "ExecuteTime": {
     "start_time": "2023-11-10T16:51:21.489014Z",
     "end_time": "2023-11-10T16:51:21.491890Z"
    }
   },
   "execution_count": 2,
   "outputs": [],
   "id": "28771acd"
  },
  {
   "cell_type": "markdown",
   "source": [
    "On affiche le rendu du circuit."
   ],
   "metadata": {},
   "id": "6aa54f78-55bb-4ec4-8db4-e90b38ec9c65"
  },
  {
   "cell_type": "code",
   "source": [
    "qc.draw(\"mpl\")"
   ],
   "metadata": {
    "ExecuteTime": {
     "start_time": "2023-11-10T16:51:21.494054Z",
     "end_time": "2023-11-10T16:51:21.759120Z"
    }
   },
   "execution_count": 3,
   "outputs": [
    {
     "name": "stderr",
     "output_type": "stream",
     "text": [
      "/usr/local/lib/python3.10/site-packages/qiskit/visualization/circuit/matplotlib.py:266: FutureWarning: The default matplotlib drawer scheme will be changed to \"iqp\" in a following release. To silence this warning, specify the current default explicitly as style=\"clifford\", or the new default as style=\"iqp\".\n",
      "  self._style, def_font_ratio = load_style(self._style)\n"
     ]
    },
    {
     "data": {
      "text/plain": "<Figure size 162.08x284.278 with 1 Axes>",
      "image/png": "[encoded data removed]"
     },
     "execution_count": 3,
     "metadata": {},
     "output_type": "execute_result"
    }
   ],
   "id": "5d058dc5"
  },
  {
   "cell_type": "markdown",
   "source": [
    "## Etape 3 : Placement du trésor\n",
    "\n",
    "Afin de placer le trésor de manière aléatoire, on utilise une porte Hadamard que l'on va appliquer au Qubit q0."
   ],
   "metadata": {
    "collapsed": false
   }
  },
  {
   "cell_type": "code",
   "source": [
    "qc.h(0)"
   ],
   "metadata": {
    "ExecuteTime": {
     "start_time": "2023-11-10T16:51:21.744164Z",
     "end_time": "2023-11-10T16:51:21.759719Z"
    }
   },
   "execution_count": 4,
   "outputs": [
    {
     "data": {
      "text/plain": "<qiskit.circuit.instructionset.InstructionSet at 0x120f50130>"
     },
     "execution_count": 4,
     "metadata": {},
     "output_type": "execute_result"
    }
   ],
   "id": "12193218"
  },
  {
   "cell_type": "markdown",
   "source": [
    "Ensuite, on utilise un C-NOT sur q0 et q1 afin de s'assurer que les 2 gardiens aient la même information."
   ],
   "metadata": {
    "collapsed": false
   }
  },
  {
   "cell_type": "code",
   "source": [
    "qc.cx(0, 1)"
   ],
   "metadata": {
    "ExecuteTime": {
     "start_time": "2023-11-10T16:51:21.753524Z",
     "end_time": "2023-11-10T16:51:21.759963Z"
    }
   },
   "execution_count": 5,
   "outputs": [
    {
     "data": {
      "text/plain": "<qiskit.circuit.instructionset.InstructionSet at 0x120f501c0>"
     },
     "execution_count": 5,
     "metadata": {},
     "output_type": "execute_result"
    }
   ],
   "id": "68238155"
  },
  {
   "cell_type": "markdown",
   "source": [
    "On affiche le rendu du circuit."
   ],
   "metadata": {
    "collapsed": false
   }
  },
  {
   "cell_type": "code",
   "source": [
    "qc.draw(\"mpl\")"
   ],
   "metadata": {
    "ExecuteTime": {
     "start_time": "2023-11-10T16:51:21.782179Z",
     "end_time": "2023-11-10T16:51:21.889419Z"
    }
   },
   "execution_count": 6,
   "outputs": [
    {
     "data": {
      "text/plain": "<Figure size 287.496x284.278 with 1 Axes>",
      "image/png": "[encoded data removed]"
     },
     "execution_count": 6,
     "metadata": {},
     "output_type": "execute_result"
    }
   ],
   "id": "843a2186"
  },
  {
   "cell_type": "markdown",
   "source": [
    "q1 et q0 sont dorénavant intriqués car si on posait la question \"Derrière quelle porte se trouve le trésor ?\", les deux gardiens donneraient la même réponse."
   ],
   "metadata": {
    "collapsed": false
   }
  },
  {
   "cell_type": "markdown",
   "source": [
    "## Etape 4 : Introduction du mensonge\n",
    "\n",
    "On introduit le mensonge qui correspond au Qubit q2."
   ],
   "metadata": {
    "collapsed": false
   }
  },
  {
   "cell_type": "code",
   "execution_count": 7,
   "outputs": [
    {
     "data": {
      "text/plain": "<qiskit.circuit.instructionset.InstructionSet at 0x120f500a0>"
     },
     "execution_count": 7,
     "metadata": {},
     "output_type": "execute_result"
    }
   ],
   "source": [
    "qc.h(2)\n",
    "qc.barrier(0,1,2)"
   ],
   "metadata": {
    "collapsed": false,
    "ExecuteTime": {
     "start_time": "2023-11-10T16:51:21.891979Z",
     "end_time": "2023-11-10T16:51:21.896860Z"
    }
   }
  },
  {
   "cell_type": "markdown",
   "source": [
    "Dans le cas où le gardien de gauche ment, on applique une porte C-NOT sur q2 et q1 pour inverser sa réponse."
   ],
   "metadata": {
    "collapsed": false
   }
  },
  {
   "cell_type": "code",
   "execution_count": 8,
   "outputs": [
    {
     "data": {
      "text/plain": "<qiskit.circuit.instructionset.InstructionSet at 0x120f1eb60>"
     },
     "execution_count": 8,
     "metadata": {},
     "output_type": "execute_result"
    }
   ],
   "source": [
    "qc.cx(2, 1)"
   ],
   "metadata": {
    "collapsed": false,
    "ExecuteTime": {
     "start_time": "2023-11-10T16:51:21.898276Z",
     "end_time": "2023-11-10T16:51:21.903512Z"
    }
   }
  },
  {
   "cell_type": "markdown",
   "source": [
    "On affiche le rendu du circuit."
   ],
   "metadata": {
    "collapsed": false
   }
  },
  {
   "cell_type": "code",
   "execution_count": 9,
   "outputs": [
    {
     "data": {
      "text/plain": "<Figure size 454.719x284.278 with 1 Axes>",
      "image/png": "[encoded data removed]"
     },
     "execution_count": 9,
     "metadata": {},
     "output_type": "execute_result"
    }
   ],
   "source": [
    "qc.draw(\"mpl\")"
   ],
   "metadata": {
    "collapsed": false,
    "ExecuteTime": {
     "start_time": "2023-11-10T16:51:21.906481Z",
     "end_time": "2023-11-10T16:51:22.055180Z"
    }
   }
  },
  {
   "cell_type": "markdown",
   "source": [
    "Dans le cas où le gardien de droite ment, on inverse sa réponse.\n",
    "Au préalable, on applique une porte X-NOT."
   ],
   "metadata": {
    "collapsed": false
   }
  },
  {
   "cell_type": "code",
   "source": [
    "qc.x(2)"
   ],
   "metadata": {
    "ExecuteTime": {
     "start_time": "2023-11-10T16:51:22.058966Z",
     "end_time": "2023-11-10T16:51:22.065426Z"
    }
   },
   "execution_count": 10,
   "outputs": [
    {
     "data": {
      "text/plain": "<qiskit.circuit.instructionset.InstructionSet at 0x121078970>"
     },
     "execution_count": 10,
     "metadata": {},
     "output_type": "execute_result"
    }
   ],
   "id": "48c73f8d"
  },
  {
   "cell_type": "markdown",
   "source": [
    "On affiche le rendu du circuit."
   ],
   "metadata": {
    "collapsed": false
   }
  },
  {
   "cell_type": "code",
   "source": [
    "qc.draw(\"mpl\")"
   ],
   "metadata": {
    "ExecuteTime": {
     "start_time": "2023-11-10T16:51:22.074883Z",
     "end_time": "2023-11-10T16:51:22.225763Z"
    }
   },
   "execution_count": 11,
   "outputs": [
    {
     "data": {
      "text/plain": "<Figure size 538.33x284.278 with 1 Axes>",
      "image/png": "[encoded data removed]"
     },
     "execution_count": 11,
     "metadata": {},
     "output_type": "execute_result"
    }
   ],
   "id": "e2cbf9e5"
  },
  {
   "cell_type": "markdown",
   "source": [
    "On applique C-NOT sur le gardien de droite pour modifier sa réponse."
   ],
   "metadata": {
    "collapsed": false
   }
  },
  {
   "cell_type": "code",
   "source": [
    "qc.cx(2, 0)"
   ],
   "metadata": {
    "ExecuteTime": {
     "start_time": "2023-11-10T16:51:22.227150Z",
     "end_time": "2023-11-10T16:51:22.232830Z"
    }
   },
   "execution_count": 12,
   "outputs": [
    {
     "data": {
      "text/plain": "<qiskit.circuit.instructionset.InstructionSet at 0x1211467d0>"
     },
     "execution_count": 12,
     "metadata": {},
     "output_type": "execute_result"
    }
   ],
   "id": "fa26cf87"
  },
  {
   "cell_type": "markdown",
   "source": [
    "On affiche le rendu du circuit."
   ],
   "metadata": {
    "collapsed": false
   }
  },
  {
   "cell_type": "code",
   "source": [
    "qc.draw(\"mpl\")"
   ],
   "metadata": {
    "ExecuteTime": {
     "start_time": "2023-11-10T16:51:22.234993Z",
     "end_time": "2023-11-10T16:51:22.416386Z"
    }
   },
   "execution_count": 13,
   "outputs": [
    {
     "data": {
      "text/plain": "<Figure size 621.941x284.278 with 1 Axes>",
      "image/png": "[encoded data removed]"
     },
     "execution_count": 13,
     "metadata": {},
     "output_type": "execute_result"
    }
   ],
   "id": "486480b8"
  },
  {
   "cell_type": "markdown",
   "source": [
    "On applique à nouveau X-NOT sur le mensonge q2."
   ],
   "metadata": {
    "collapsed": false
   }
  },
  {
   "cell_type": "code",
   "source": [
    "qc.x(2)\n",
    "qc.barrier(0, 1, 2)"
   ],
   "metadata": {
    "ExecuteTime": {
     "start_time": "2023-11-10T16:51:22.431542Z",
     "end_time": "2023-11-10T16:51:22.479609Z"
    }
   },
   "execution_count": 14,
   "outputs": [
    {
     "data": {
      "text/plain": "<qiskit.circuit.instructionset.InstructionSet at 0x120f1e680>"
     },
     "execution_count": 14,
     "metadata": {},
     "output_type": "execute_result"
    }
   ],
   "id": "f3c360fe"
  },
  {
   "cell_type": "markdown",
   "source": [
    "On affiche le rendu du circuit."
   ],
   "metadata": {
    "collapsed": false
   }
  },
  {
   "cell_type": "code",
   "source": [
    "qc.draw(\"mpl\")"
   ],
   "metadata": {
    "ExecuteTime": {
     "start_time": "2023-11-10T16:51:22.440744Z",
     "end_time": "2023-11-10T16:51:22.613097Z"
    }
   },
   "execution_count": 15,
   "outputs": [
    {
     "data": {
      "text/plain": "<Figure size 789.163x284.278 with 1 Axes>",
      "image/png": "[encoded data removed]"
     },
     "execution_count": 15,
     "metadata": {},
     "output_type": "execute_result"
    }
   ],
   "id": "1975fca5"
  },
  {
   "cell_type": "markdown",
   "source": [
    "## Etape 5 : Résolution de l'énigme\n",
    "\n",
    "Quelle porte l'autre gardien me dirait de ne pas prendre ?\n",
    "On applique une porte Swap entre q0 et q1"
   ],
   "metadata": {
    "collapsed": false
   }
  },
  {
   "cell_type": "code",
   "source": [
    "qc.swap(0, 1)"
   ],
   "metadata": {
    "ExecuteTime": {
     "start_time": "2023-11-10T16:51:22.615924Z",
     "end_time": "2023-11-10T16:51:22.620973Z"
    }
   },
   "execution_count": 16,
   "outputs": [
    {
     "data": {
      "text/plain": "<qiskit.circuit.instructionset.InstructionSet at 0x1212c1e10>"
     },
     "execution_count": 16,
     "metadata": {},
     "output_type": "execute_result"
    }
   ],
   "id": "4593ade6"
  },
  {
   "cell_type": "markdown",
   "source": [
    "On affiche le rendu du circuit."
   ],
   "metadata": {
    "collapsed": false
   }
  },
  {
   "cell_type": "code",
   "source": [
    "qc.draw(\"mpl\")"
   ],
   "metadata": {
    "ExecuteTime": {
     "start_time": "2023-11-10T16:51:22.621709Z",
     "end_time": "2023-11-10T16:51:22.921396Z"
    }
   },
   "execution_count": 17,
   "outputs": [
    {
     "data": {
      "text/plain": "<Figure size 872.774x284.278 with 1 Axes>",
      "image/png": "[encoded data removed]"
     },
     "execution_count": 17,
     "metadata": {},
     "output_type": "execute_result"
    }
   ],
   "id": "a17becc6"
  },
  {
   "cell_type": "markdown",
   "source": [
    "On applique une porte X-NOT sur q0 et q1 car on demande aux gardiens de ne pas prendre."
   ],
   "metadata": {
    "collapsed": false
   }
  },
  {
   "cell_type": "code",
   "source": [
    "qc.x(0)"
   ],
   "metadata": {
    "ExecuteTime": {
     "start_time": "2023-11-10T16:51:22.922512Z",
     "end_time": "2023-11-10T16:51:22.928868Z"
    }
   },
   "execution_count": 18,
   "outputs": [
    {
     "data": {
      "text/plain": "<qiskit.circuit.instructionset.InstructionSet at 0x12132d3f0>"
     },
     "execution_count": 18,
     "metadata": {},
     "output_type": "execute_result"
    }
   ],
   "id": "b24e037a"
  },
  {
   "cell_type": "code",
   "source": [
    "qc.x(1)"
   ],
   "metadata": {
    "ExecuteTime": {
     "start_time": "2023-11-10T16:51:22.930688Z",
     "end_time": "2023-11-10T16:51:22.936292Z"
    }
   },
   "execution_count": 19,
   "outputs": [
    {
     "data": {
      "text/plain": "<qiskit.circuit.instructionset.InstructionSet at 0x12132f2b0>"
     },
     "execution_count": 19,
     "metadata": {},
     "output_type": "execute_result"
    }
   ],
   "id": "76f92e88"
  },
  {
   "cell_type": "markdown",
   "source": [
    "On affiche le rendu du graphique."
   ],
   "metadata": {
    "collapsed": false
   }
  },
  {
   "cell_type": "code",
   "source": [
    "qc.draw(\"mpl\")"
   ],
   "metadata": {
    "ExecuteTime": {
     "start_time": "2023-11-10T16:51:22.939759Z",
     "end_time": "2023-11-10T16:51:23.203498Z"
    }
   },
   "execution_count": 20,
   "outputs": [
    {
     "data": {
      "text/plain": "<Figure size 956.385x284.278 with 1 Axes>",
      "image/png": "[encoded data removed]"
     },
     "execution_count": 20,
     "metadata": {},
     "output_type": "execute_result"
    }
   ],
   "id": "2813762c"
  },
  {
   "cell_type": "markdown",
   "source": [
    "Comme l'un des deux gardiens ment, on réapplique la ligne du mensonge commme précédemment."
   ],
   "metadata": {
    "collapsed": false
   }
  },
  {
   "cell_type": "code",
   "source": [
    "qc.cx(2, 1)"
   ],
   "metadata": {
    "ExecuteTime": {
     "start_time": "2023-11-10T16:51:23.204539Z",
     "end_time": "2023-11-10T16:51:23.209440Z"
    }
   },
   "execution_count": 21,
   "outputs": [
    {
     "data": {
      "text/plain": "<qiskit.circuit.instructionset.InstructionSet at 0x1213eb940>"
     },
     "execution_count": 21,
     "metadata": {},
     "output_type": "execute_result"
    }
   ],
   "id": "7b917e16"
  },
  {
   "cell_type": "markdown",
   "source": [
    "On affiche le rendu du circuit."
   ],
   "metadata": {
    "collapsed": false
   }
  },
  {
   "cell_type": "code",
   "source": [
    "qc.draw(\"mpl\")"
   ],
   "metadata": {
    "ExecuteTime": {
     "start_time": "2023-11-10T16:51:23.216362Z",
     "end_time": "2023-11-10T16:51:23.411010Z"
    }
   },
   "execution_count": 22,
   "outputs": [
    {
     "data": {
      "text/plain": "<Figure size 1040x284.278 with 1 Axes>",
      "image/png": "[encoded data removed]"
     },
     "execution_count": 22,
     "metadata": {},
     "output_type": "execute_result"
    }
   ],
   "id": "29051d39"
  },
  {
   "cell_type": "code",
   "source": [
    "qc.x(2)"
   ],
   "metadata": {
    "ExecuteTime": {
     "start_time": "2023-11-10T16:51:23.413411Z",
     "end_time": "2023-11-10T16:51:23.419607Z"
    }
   },
   "execution_count": 23,
   "outputs": [
    {
     "data": {
      "text/plain": "<qiskit.circuit.instructionset.InstructionSet at 0x12143da20>"
     },
     "execution_count": 23,
     "metadata": {},
     "output_type": "execute_result"
    }
   ],
   "id": "51c2f4db"
  },
  {
   "cell_type": "code",
   "source": [
    "qc.cx(2,0)"
   ],
   "metadata": {
    "ExecuteTime": {
     "start_time": "2023-11-10T16:51:23.421350Z",
     "end_time": "2023-11-10T16:51:23.426953Z"
    }
   },
   "execution_count": 24,
   "outputs": [
    {
     "data": {
      "text/plain": "<qiskit.circuit.instructionset.InstructionSet at 0x12143d630>"
     },
     "execution_count": 24,
     "metadata": {},
     "output_type": "execute_result"
    }
   ],
   "id": "6aa1433a"
  },
  {
   "cell_type": "code",
   "source": [
    "qc.x(2)"
   ],
   "metadata": {
    "ExecuteTime": {
     "start_time": "2023-11-10T16:51:23.428842Z",
     "end_time": "2023-11-10T16:51:23.493625Z"
    }
   },
   "execution_count": 25,
   "outputs": [
    {
     "data": {
      "text/plain": "<qiskit.circuit.instructionset.InstructionSet at 0x12143cb50>"
     },
     "execution_count": 25,
     "metadata": {},
     "output_type": "execute_result"
    }
   ],
   "id": "f516fd27"
  },
  {
   "cell_type": "markdown",
   "source": [
    "On affiche le rendu du circuit."
   ],
   "metadata": {
    "collapsed": false
   }
  },
  {
   "cell_type": "code",
   "execution_count": 26,
   "outputs": [
    {
     "data": {
      "text/plain": "<Figure size 1290.83x284.278 with 1 Axes>",
      "image/png": "[encoded data removed]"
     },
     "execution_count": 26,
     "metadata": {},
     "output_type": "execute_result"
    }
   ],
   "source": [
    "qc.draw(\"mpl\")"
   ],
   "metadata": {
    "collapsed": false,
    "ExecuteTime": {
     "start_time": "2023-11-10T16:51:23.441595Z",
     "end_time": "2023-11-10T16:51:23.654783Z"
    }
   }
  },
  {
   "cell_type": "markdown",
   "source": [
    "# Etape 6 : Mesure des Qubits\n",
    "\n",
    "On mesure les Qubit afin de savoir où se trouve le trésor, et quel gardient mentait."
   ],
   "metadata": {
    "collapsed": false
   }
  },
  {
   "cell_type": "code",
   "execution_count": 27,
   "outputs": [],
   "source": [
    "qc.measure_all()"
   ],
   "metadata": {
    "collapsed": false,
    "ExecuteTime": {
     "start_time": "2023-11-10T16:51:23.657495Z",
     "end_time": "2023-11-10T16:51:23.661205Z"
    }
   }
  },
  {
   "cell_type": "markdown",
   "source": [
    "On affiche le rendu du circuit"
   ],
   "metadata": {
    "collapsed": false
   }
  },
  {
   "cell_type": "code",
   "execution_count": 28,
   "outputs": [
    {
     "data": {
      "text/plain": "<Figure size 1667.33x367.889 with 1 Axes>",
      "image/png": "[encoded data removed]"
     },
     "execution_count": 28,
     "metadata": {},
     "output_type": "execute_result"
    }
   ],
   "source": [
    "qc.draw('mpl')"
   ],
   "metadata": {
    "collapsed": false,
    "ExecuteTime": {
     "start_time": "2023-11-10T16:51:23.665745Z",
     "end_time": "2023-11-10T16:51:23.960356Z"
    }
   }
  },
  {
   "cell_type": "markdown",
   "source": [
    "# Etape 7 : Execution du circuit"
   ],
   "metadata": {
    "collapsed": false
   }
  },
  {
   "cell_type": "code",
   "execution_count": 29,
   "outputs": [
    {
     "name": "stdout",
     "output_type": "stream",
     "text": [
      "Résultat de la mesure : {'111': 241, '100': 276, '000': 242, '011': 241}\n",
      "Le trésor se trouve derrière la porte 111. Gardien de droite est le gardien menteur.\n",
      "Le trésor se trouve derrière la porte 100. Gardien de droite est le gardien menteur.\n",
      "Le trésor se trouve derrière la porte 000. Gardien de gauche est le gardien menteur.\n",
      "Le trésor se trouve derrière la porte 011. Gardien de gauche est le gardien menteur.\n"
     ]
    }
   ],
   "source": [
    "simulator = Aer.get_backend('qasm_simulator')\n",
    "job = execute(qc, simulator, shots=1000)\n",
    "\n",
    "result = job.result()\n",
    "counts = result.get_counts(qc)\n",
    "\n",
    "print(\"Résultat de la mesure :\", counts)\n",
    "\n",
    "for outcome in counts:\n",
    "    treasure_location = outcome\n",
    "    lying_guard = \"Gardien de droite\" if outcome[0] == '1' else \"Gardien de gauche\"\n",
    "    print(f\"Le trésor se trouve derrière la porte {treasure_location}. {lying_guard} est le gardien menteur.\")"
   ],
   "metadata": {
    "collapsed": false,
    "ExecuteTime": {
     "start_time": "2023-11-10T16:51:23.963546Z",
     "end_time": "2023-11-10T16:51:24.073354Z"
    }
   }
  }
 ]
}
