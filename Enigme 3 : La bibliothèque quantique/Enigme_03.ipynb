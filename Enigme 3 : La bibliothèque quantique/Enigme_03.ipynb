{
 "cells": [
  {
   "cell_type": "markdown",
   "source": [
    "# Enigme 3 : La bibliothèque quantique\n",
    "\n",
    "Bob a subit une malédiction. A la bibliothèque quantique, il y a 4 grimoires dont 1 avec le remède. Mais l'emprunt du livre se fait au hasard. Pour cela, Bob utilise l'algorithme de Grover. Le bon grimoire sera marqué par Aika, en inversant sa phase quantique.\n",
    "\n",
    "Défi : Trouver un moyen pour que Bob puisse trouver le bon grimoire."
   ],
   "metadata": {
    "collapsed": false
   }
  },
  {
   "cell_type": "markdown",
   "source": [
    "## Etape 1 : importation des modules de base"
   ],
   "metadata": {
    "collapsed": false
   }
  },
  {
   "cell_type": "code",
   "execution_count": 1,
   "outputs": [],
   "source": [
    "from qiskit import QuantumCircuit, Aer, transpile\n",
    "from qiskit.visualization import plot_histogram\n",
    "from qiskit.visualization import plot_state_city\n",
    "import numpy as np\n",
    "import matplotlib.pyplot as plt"
   ],
   "metadata": {
    "collapsed": false,
    "ExecuteTime": {
     "start_time": "2024-01-12T08:19:20.796790Z",
     "end_time": "2024-01-12T08:19:21.869396Z"
    }
   }
  },
  {
   "cell_type": "markdown",
   "source": [
    "## Etape 2 :\n",
    "\n",
    "Création du circuit de 2 qbit pour les valeurs possibles de livres. On applique une porte Hadamard à chaque qbit pour definir la valeur du livre comme aleatoire"
   ],
   "metadata": {
    "collapsed": false
   }
  },
  {
   "cell_type": "code",
   "execution_count": 2,
   "outputs": [
    {
     "name": "stderr",
     "output_type": "stream",
     "text": [
      "/usr/local/lib/python3.10/site-packages/qiskit/visualization/circuit/matplotlib.py:266: FutureWarning: The default matplotlib drawer scheme will be changed to \"iqp\" in a following release. To silence this warning, specify the current default explicitly as style=\"clifford\", or the new default as style=\"iqp\".\n",
      "  self._style, def_font_ratio = load_style(self._style)\n"
     ]
    },
    {
     "data": {
      "text/plain": "<Figure size 287.294x200.667 with 1 Axes>",
      "image/png": "[encoded data removed]"
     },
     "execution_count": 2,
     "metadata": {},
     "output_type": "execute_result"
    }
   ],
   "source": [
    "circ = QuantumCircuit(2)\n",
    "\n",
    "circ.h(0)\n",
    "circ.h(1)\n",
    "\n",
    "circ.barrier()\n",
    "\n",
    "circ.draw('mpl')"
   ],
   "metadata": {
    "collapsed": false,
    "ExecuteTime": {
     "start_time": "2024-01-12T08:19:21.872368Z",
     "end_time": "2024-01-12T08:19:22.099263Z"
    }
   }
  },
  {
   "cell_type": "code",
   "execution_count": 3,
   "outputs": [
    {
     "data": {
      "text/plain": "<Figure size 287.294x200.667 with 1 Axes>",
      "image/png": "[encoded data removed]"
     },
     "execution_count": 3,
     "metadata": {},
     "output_type": "execute_result"
    }
   ],
   "source": [
    "circ.draw(\"mpl\")"
   ],
   "metadata": {
    "collapsed": false,
    "ExecuteTime": {
     "start_time": "2024-01-12T08:19:22.101341Z",
     "end_time": "2024-01-12T08:19:22.195137Z"
    }
   }
  },
  {
   "cell_type": "markdown",
   "source": [
    "## Etape 3 :\n",
    "Pour simuler l'intervention d'Aïka, on utilise un Oracle. Un Oracle est une fonction qui prend en entrée un Qbit et renvoie 1 si le Qbit est dans l'état |1> et 0 si le Qbit est dans l'état |0>. Dans notre cas, l'Oracle renvoie 1 si le Qbit est dans l'état |1> et -1 si le Qbit est dans l'état |0>. Pour cela, on utilise une porte Z qui effectue une rotation de 180 degrés autour de l'axe Z, ce qui inverse la phase de l'état 1. Par exemple, elle peut transformer l'état + en l'état -."
   ],
   "metadata": {
    "collapsed": false
   }
  },
  {
   "cell_type": "code",
   "execution_count": 4,
   "outputs": [
    {
     "data": {
      "text/plain": "<qiskit.circuit.instructionset.InstructionSet at 0x11c3e9a20>"
     },
     "execution_count": 4,
     "metadata": {},
     "output_type": "execute_result"
    }
   ],
   "source": [
    "circ.x([0,1])\n",
    "circ.cz(0,1)\n",
    "circ.x([0,1])\n",
    "circ.barrier(range(2))"
   ],
   "metadata": {
    "collapsed": false,
    "ExecuteTime": {
     "start_time": "2024-01-12T08:19:22.199077Z",
     "end_time": "2024-01-12T08:19:22.204917Z"
    }
   }
  },
  {
   "cell_type": "code",
   "execution_count": 5,
   "outputs": [
    {
     "data": {
      "text/plain": "<Figure size 621.739x200.667 with 1 Axes>",
      "image/png": "[encoded data removed]"
     },
     "execution_count": 5,
     "metadata": {},
     "output_type": "execute_result"
    }
   ],
   "source": [
    "circ.draw('mpl')"
   ],
   "metadata": {
    "collapsed": false,
    "ExecuteTime": {
     "start_time": "2024-01-12T08:19:22.209316Z",
     "end_time": "2024-01-12T08:19:22.345621Z"
    }
   }
  },
  {
   "cell_type": "markdown",
   "source": [
    "Un diffuseur est utilisé pour superposer l'état initial sur tous les autres états en appliquant la phase inversée spécifique à chaque état."
   ],
   "metadata": {
    "collapsed": false
   }
  },
  {
   "cell_type": "code",
   "execution_count": 6,
   "outputs": [
    {
     "data": {
      "text/plain": "<qiskit.circuit.instructionset.InstructionSet at 0x11c45fac0>"
     },
     "execution_count": 6,
     "metadata": {},
     "output_type": "execute_result"
    }
   ],
   "source": [
    "circ.h([0,1])\n",
    "circ.z([0,1])\n",
    "circ.cz(0, 1)\n",
    "circ.h([0,1])\n",
    "\n",
    "circ.barrier()"
   ],
   "metadata": {
    "collapsed": false,
    "ExecuteTime": {
     "start_time": "2024-01-12T08:19:22.348258Z",
     "end_time": "2024-01-12T08:19:22.367457Z"
    }
   }
  },
  {
   "cell_type": "code",
   "execution_count": 7,
   "outputs": [
    {
     "data": {
      "text/plain": "<Figure size 1039.79x200.667 with 1 Axes>",
      "image/png": "[encoded data removed]"
     },
     "execution_count": 7,
     "metadata": {},
     "output_type": "execute_result"
    }
   ],
   "source": [
    "circ.draw('mpl')"
   ],
   "metadata": {
    "collapsed": false,
    "ExecuteTime": {
     "start_time": "2024-01-12T08:19:22.357847Z",
     "end_time": "2024-01-12T08:19:22.540800Z"
    }
   }
  },
  {
   "cell_type": "markdown",
   "source": [
    "## Etape 4 :\n",
    "Mesure des qbits"
   ],
   "metadata": {
    "collapsed": false
   }
  },
  {
   "cell_type": "code",
   "execution_count": 8,
   "outputs": [],
   "source": [
    "circ.measure_all()"
   ],
   "metadata": {
    "collapsed": false,
    "ExecuteTime": {
     "start_time": "2024-01-12T08:19:22.539926Z",
     "end_time": "2024-01-12T08:19:22.544336Z"
    }
   }
  },
  {
   "cell_type": "code",
   "execution_count": 9,
   "outputs": [
    {
     "name": "stdout",
     "output_type": "stream",
     "text": [
      "{'00': 10000}\n"
     ]
    }
   ],
   "source": [
    "simulator = Aer.get_backend('statevector_simulator')\n",
    "compiled_circuit = transpile(circ, simulator)\n",
    "job = simulator.run(compiled_circuit, shots=10000)\n",
    "result_sim = job.result()\n",
    "counts = result_sim.get_counts(compiled_circuit)\n",
    "print(counts)"
   ],
   "metadata": {
    "collapsed": false,
    "ExecuteTime": {
     "start_time": "2024-01-12T08:19:22.546038Z",
     "end_time": "2024-01-12T08:19:22.761536Z"
    }
   }
  },
  {
   "cell_type": "markdown",
   "source": [
    "## Etape 5 :\n",
    "Affichage des résultats"
   ],
   "metadata": {
    "collapsed": false
   }
  },
  {
   "cell_type": "code",
   "execution_count": 10,
   "outputs": [
    {
     "data": {
      "text/plain": "<Figure size 700x500 with 1 Axes>",
      "image/png": "[encoded data removed]"
     },
     "execution_count": 10,
     "metadata": {},
     "output_type": "execute_result"
    }
   ],
   "source": [
    "plot_histogram(counts)"
   ],
   "metadata": {
    "collapsed": false,
    "ExecuteTime": {
     "start_time": "2024-01-12T08:19:22.760522Z",
     "end_time": "2024-01-12T08:19:22.918025Z"
    }
   }
  }
 ],
 "metadata": {
  "kernelspec": {
   "display_name": "Python 3",
   "language": "python",
   "name": "python3"
  },
  "language_info": {
   "codemirror_mode": {
    "name": "ipython",
    "version": 2
   },
   "file_extension": ".py",
   "mimetype": "text/x-python",
   "name": "python",
   "nbconvert_exporter": "python",
   "pygments_lexer": "ipython2",
   "version": "2.7.6"
  }
 },
 "nbformat": 4,
 "nbformat_minor": 0
}
